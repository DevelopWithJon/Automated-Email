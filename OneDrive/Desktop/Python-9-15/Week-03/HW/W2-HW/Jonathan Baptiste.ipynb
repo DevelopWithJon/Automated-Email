{
 "cells": [
  {
   "cell_type": "code",
   "execution_count": 2,
   "metadata": {},
   "outputs": [
    {
     "name": "stdout",
     "output_type": "stream",
     "text": [
      "simba I bet you're Impressively Intelligent!\n",
      "Ehh, a's and e's are so ordinary.\n",
      "ariel I bet you're Impressively Intelligent!\n",
      "Ehh, a's and e's are so ordinary.\n",
      "pumba U are so Uniquely U!\n",
      "Ehh, a's and e's are so ordinary.\n",
      "flounder U are so Uniquely U!\n",
      "flounder O My! How Original!\n",
      "Ehh, a's and e's are so ordinary.\n",
      "ursula U are so Uniquely U!\n",
      "Ehh, a's and e's are so ordinary.\n",
      "Ehh, a's and e's are so ordinary.\n",
      "flotsam O My! How Original!\n",
      "timon I bet you're Impressively Intelligent!\n",
      "timon O My! How Original!\n"
     ]
    }
   ],
   "source": [
    "disney_characters = [\"simba\", \"ariel\", \"pumba\", \"flounder\", \"nala\", \"ursula\", \"scar\", \"flotsam\", \"timon\"]\n",
    "for name in disney_characters:\n",
    "    if 'u' in name:\n",
    "        print(name + ' ' + 'U are so Uniquely U!')\n",
    "    if 'i' in name:\n",
    "        print(name + ' ' + \"I bet you're Impressively Intelligent!\")\n",
    "    if 'o' in name:\n",
    "        print(name + ' ' + 'O My! How Original!')\n",
    "    else:\n",
    "        print(\"Ehh, a's and e's are so ordinary.\")\n",
    "temperature = 90\n"
   ]
  },
  {
   "cell_type": "code",
   "execution_count": 3,
   "metadata": {},
   "outputs": [
    {
     "name": "stdout",
     "output_type": "stream",
     "text": [
      "The temperature is90 — crank the AC!\n",
      "The temperature is87 — crank the AC!\n",
      "The temperature is84 — crank the AC!\n",
      "The temperature is81 — crank the AC!\n",
      "The temperature is78 — crank the AC!\n",
      "75. Ahh, that's better.\n"
     ]
    }
   ],
   "source": [
    "while temperature > 75:\n",
    "    print(\"The temperature is\" +   str(temperature) + \" — crank the AC!\")\n",
    "    temperature -= 3\n",
    "print(\"75. Ahh, that's better.\")"
   ]
  },
  {
   "cell_type": "code",
   "execution_count": null,
   "metadata": {},
   "outputs": [],
   "source": []
  }
 ],
 "metadata": {
  "kernelspec": {
   "display_name": "Python 3",
   "language": "python",
   "name": "python3"
  },
  "language_info": {
   "codemirror_mode": {
    "name": "ipython",
    "version": 3
   },
   "file_extension": ".py",
   "mimetype": "text/x-python",
   "name": "python",
   "nbconvert_exporter": "python",
   "pygments_lexer": "ipython3",
   "version": "3.7.4"
  }
 },
 "nbformat": 4,
 "nbformat_minor": 2
}
